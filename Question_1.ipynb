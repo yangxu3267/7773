{
 "cells": [
  {
   "cell_type": "code",
   "execution_count": 15,
   "id": "32f8cd31-3d6a-449b-b3e8-40c2c99fbddb",
   "metadata": {},
   "outputs": [],
   "source": [
    "import pandas as pd\n",
    "import numpy as np"
   ]
  },
  {
   "cell_type": "code",
   "execution_count": 10,
   "id": "143ff7d7-bb81-486e-a0bb-a3ab2766770a",
   "metadata": {},
   "outputs": [],
   "source": [
    "hdata = pd.read_csv(\"/Users/yx/Desktop/train.csv\")"
   ]
  },
  {
   "cell_type": "code",
   "execution_count": 13,
   "id": "ed0251ed-e3ec-4ae5-87de-2492ba395861",
   "metadata": {},
   "outputs": [],
   "source": [
    "x = hdata[['1stFlrSF','2ndFlrSF', 'TotalBsmtSF']].values"
   ]
  },
  {
   "cell_type": "code",
   "execution_count": 14,
   "id": "c1d686ea-9d23-4579-b15e-3c1e8dd0956c",
   "metadata": {
    "tags": []
   },
   "outputs": [],
   "source": [
    "y = hdata['SalePrice'].values"
   ]
  },
  {
   "cell_type": "code",
   "execution_count": 18,
   "id": "76542118-44a7-4967-94a2-fc86a4eed99d",
   "metadata": {
    "tags": []
   },
   "outputs": [
    {
     "name": "stdout",
     "output_type": "stream",
     "text": [
      "[71.56451306 80.60722621 67.05575936]\n"
     ]
    }
   ],
   "source": [
    "beta_hat = np.linalg.inv(x.T.dot(x)).dot(x.T).dot(y)\n",
    "print(beta_hat)"
   ]
  },
  {
   "cell_type": "code",
   "execution_count": 19,
   "id": "3b06a81b-a2e6-4fb2-a2b2-fc62ee01642e",
   "metadata": {
    "tags": []
   },
   "outputs": [
    {
     "data": {
      "text/plain": [
       "array([187497.52437894, 174938.78379762, 197336.50852855, ...,\n",
       "       255126.40089751, 149432.65367182, 174107.06216308])"
      ]
     },
     "execution_count": 19,
     "metadata": {},
     "output_type": "execute_result"
    }
   ],
   "source": [
    "yhat = x.dot(beta_hat)\n",
    "yhat"
   ]
  },
  {
   "cell_type": "code",
   "execution_count": 21,
   "id": "17b81f7e-17df-49e9-be8e-e61709c75d31",
   "metadata": {
    "tags": []
   },
   "outputs": [
    {
     "name": "stdout",
     "output_type": "stream",
     "text": [
      "0.6151339984187273\n"
     ]
    }
   ],
   "source": [
    "corr_matrix = np.corrcoef(y, yhat)\n",
    "corr = corr_matrix[0,1]\n",
    "R_sq = corr**2\n",
    " \n",
    "print(R_sq)"
   ]
  },
  {
   "cell_type": "code",
   "execution_count": null,
   "id": "24c1145a-874f-453d-8031-e66b6d877f4c",
   "metadata": {},
   "outputs": [],
   "source": []
  }
 ],
 "metadata": {
  "kernelspec": {
   "display_name": "Python 3 (ipykernel)",
   "language": "python",
   "name": "python3"
  },
  "language_info": {
   "codemirror_mode": {
    "name": "ipython",
    "version": 3
   },
   "file_extension": ".py",
   "mimetype": "text/x-python",
   "name": "python",
   "nbconvert_exporter": "python",
   "pygments_lexer": "ipython3",
   "version": "3.11.4"
  }
 },
 "nbformat": 4,
 "nbformat_minor": 5
}
